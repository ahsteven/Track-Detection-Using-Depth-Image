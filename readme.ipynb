{
 "cells": [
  {
   "cell_type": "markdown",
   "metadata": {},
   "source": [
    "## Detecting the Railings of a Track Using a Stereo Vision Camera\n",
    "\n",
    "Please see python notebook for commented code"
   ]
  },
  {
   "cell_type": "markdown",
   "metadata": {},
   "source": [
    "### Video of Second Order Polyfit of Railing\n",
    "[![IMAGE ALT TEXT HERE](https://img.youtube.com/vi/QEG2kDTnSSw/0.jpg)](https://www.youtube.com/watch?v=QEG2kDTnSSw)"
   ]
  },
  {
   "cell_type": "markdown",
   "metadata": {},
   "source": [
    "### Video of Linear Fit of Railing\n",
    "[![IMAGE ALT TEXT HERE](https://img.youtube.com/vi/KslOp2mgY7I/0.jpg)](https://www.youtube.com/watch?v=KslOp2mgY7I)"
   ]
  },
  {
   "cell_type": "markdown",
   "metadata": {},
   "source": [
    "### Video Showing points detected accross multiple Frames to try to get more accurate polyfit"
   ]
  },
  {
   "cell_type": "markdown",
   "metadata": {},
   "source": [
    "[![IMAGE ALT TEXT HERE](https://img.youtube.com/vi/kIRZPQKMJvs/0.jpg)](https://www.youtube.com/watch?v=kIRZPQKMJvs)"
   ]
  },
  {
   "cell_type": "markdown",
   "metadata": {},
   "source": [
    "### Example of Depth Image Used for Detecting Rails"
   ]
  },
  {
   "cell_type": "markdown",
   "metadata": {},
   "source": [
    "Original Image            |  Depth Image\n",
    ":-------------------------:|:-------------------------:\n",
    "![](Images/image_Left_444.jpg)  |  ![](Images/image_Depth_444.jpg)"
   ]
  },
  {
   "cell_type": "markdown",
   "metadata": {},
   "source": [
    "### Perspective transform\n",
    "The perspective trasform is used to convert from pixel coordinates to real world coordinates.\n",
    "Although the ZED Sdk can provide a 3D point cloud with real wold coordinates it will be interesting to compare the accuracy between the two methods.\n",
    "\n",
    "Once the railing is detected its distance from the center of the vehicle can be determined using the perspective transform.\n",
    "\n",
    "Perspective Transform obtained using opencv's getPerspectiveTransform function"
   ]
  },
  {
   "cell_type": "markdown",
   "metadata": {},
   "source": [
    "Calibration Image          |  Birds Eye View Pespective Transform\n",
    ":-------------------------:|:-------------------------:\n",
    "![](Pictures/perspective_cal.jpg )  |  ![](Pictures/Transformed_Image.jpg )"
   ]
  },
  {
   "cell_type": "markdown",
   "metadata": {},
   "source": [
    "### Read a small subset of images for fine tuning the filtering parameters"
   ]
  },
  {
   "cell_type": "markdown",
   "metadata": {},
   "source": [
    "### The image Below shows how the filtering is done to detect the railing.\n",
    "First the depth image is read in and the left of the image is masked as well as a small strip on the bottom. The bottom had to be cropped out due to the image being distorted at this close range. \n",
    "\n",
    "Then all pixel values below a certain value (i.e too far away to be the railing) are masked out. The remaining pixels are all set to a single max value.\n",
    "\n",
    "Each row of the image matrix is scanned from right to left to find the first non zero pixel. These pixel points are ultimately used in the polyfit. \n",
    "\n",
    "The pixels are converted to real world coordinates using a perspective transform. The perspective transform is determined by a calibrated image. The polynomial fit is then done on the transformed pixels. This allows for the polynomial fit to give us a radius of curvature that is useful for navigation. Also the approximate distance from the track is easily obtained.\n",
    "\n",
    "Finally the polyfit function is tranformed back into pixel coordinates and displayed on the image."
   ]
  },
  {
   "cell_type": "markdown",
   "metadata": {
    "collapsed": true
   },
   "source": [
    "\n",
    "![](Pictures/filtering.png ) "
   ]
  }
 ],
 "metadata": {
  "anaconda-cloud": {},
  "kernelspec": {
   "display_name": "Python [conda root]",
   "language": "python",
   "name": "conda-root-py"
  },
  "language_info": {
   "codemirror_mode": {
    "name": "ipython",
    "version": 3
   },
   "file_extension": ".py",
   "mimetype": "text/x-python",
   "name": "python",
   "nbconvert_exporter": "python",
   "pygments_lexer": "ipython3",
   "version": "3.5.2"
  }
 },
 "nbformat": 4,
 "nbformat_minor": 0
}
